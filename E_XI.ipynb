{
 "cells": [
  {
   "cell_type": "markdown",
   "metadata": {},
   "source": [
    "##### Write a Python program to find  the greatest common divisor (gcd) of two integers"
   ]
  },
  {
   "cell_type": "code",
   "execution_count": 9,
   "metadata": {},
   "outputs": [
    {
     "name": "stdout",
     "output_type": "stream",
     "text": [
      "2\n"
     ]
    }
   ],
   "source": [
    "def mcdEuclides(a, b):\n",
    "\tmini = min(a, b)\n",
    "\tmaxi = max(a, b)\n",
    "\t# si algun número es cero entonces mcd = mayor de los dos\n",
    "\tif mini == 0:\n",
    "\t\treturn maxi\n",
    "\t# si alguno de los numeros es 1, el mcd es 1\n",
    "\telif mini == 1:\n",
    "\t\treturn 1\n",
    "\telse:\n",
    "\t# algoritmo de euclides mcd(mini,maxi) = mcd(mini,residuo de maxi entre mini)\n",
    "\t\treturn mcdEuclides(mini, maxi%mini)\n",
    "\t\t\n",
    "print(mcdEuclides(12,14))\n"
   ]
  },
  {
   "cell_type": "code",
   "execution_count": 7,
   "metadata": {},
   "outputs": [
    {
     "name": "stdout",
     "output_type": "stream",
     "text": [
      "12\n",
      "14\n"
     ]
    }
   ],
   "source": [
    "print(min(12,14))\n",
    "print(max(12,14))"
   ]
  },
  {
   "cell_type": "code",
   "execution_count": null,
   "metadata": {},
   "outputs": [],
   "source": []
  }
 ],
 "metadata": {
  "kernelspec": {
   "display_name": "Python 3",
   "language": "python",
   "name": "python3"
  },
  "language_info": {
   "codemirror_mode": {
    "name": "ipython",
    "version": 3
   },
   "file_extension": ".py",
   "mimetype": "text/x-python",
   "name": "python",
   "nbconvert_exporter": "python",
   "pygments_lexer": "ipython3",
   "version": "3.7.3"
  }
 },
 "nbformat": 4,
 "nbformat_minor": 4
}
