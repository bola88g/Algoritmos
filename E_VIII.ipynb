{
 "cells": [
  {
   "cell_type": "markdown",
   "metadata": {},
   "source": [
    "##### Escriba un programa de Python para calcular la suma armónica de n-1.\n",
    "##### Nota: La suma armónica es la suma de los recíprocos de los enteros positivos."
   ]
  },
  {
   "cell_type": "code",
   "execution_count": 1,
   "metadata": {},
   "outputs": [
    {
     "name": "stdout",
     "output_type": "stream",
     "text": [
      "2.4499999999999997\n",
      "1\n",
      "1.8333333333333333\n",
      "1\n",
      "1.5\n"
     ]
    }
   ],
   "source": [
    "rslt = 0\n",
    "def sumaArmonica(n):\n",
    "    if n < 3:\n",
    "        # el primer elemento de la suma es 1\n",
    "        return 1\n",
    "    else:\n",
    "        # a partir del elemento 2 la suma es recursiva e igual a 1/n más la suma armónica de los anteriores\n",
    "        return 1 / (n-1) + (sumaArmonica(n - 1))\n",
    "    \n",
    "print(sumaArmonica(7))\n",
    "print(sumaArmonica(2))\n",
    "print(sumaArmonica(4))\n",
    "print(sumaArmonica(1))\n",
    "print(sumaArmonica(3))"
   ]
  },
  {
   "cell_type": "code",
   "execution_count": null,
   "metadata": {},
   "outputs": [],
   "source": []
  },
  {
   "cell_type": "code",
   "execution_count": null,
   "metadata": {},
   "outputs": [],
   "source": []
  }
 ],
 "metadata": {
  "kernelspec": {
   "display_name": "Python 3",
   "language": "python",
   "name": "python3"
  },
  "language_info": {
   "codemirror_mode": {
    "name": "ipython",
    "version": 3
   },
   "file_extension": ".py",
   "mimetype": "text/x-python",
   "name": "python",
   "nbconvert_exporter": "python",
   "pygments_lexer": "ipython3",
   "version": "3.7.3"
  }
 },
 "nbformat": 4,
 "nbformat_minor": 4
}
