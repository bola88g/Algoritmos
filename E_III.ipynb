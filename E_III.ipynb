{
 "cells": [
  {
   "cell_type": "markdown",
   "metadata": {},
   "source": [
    "######  Escriba un programa de Python de la suma recursiva de una lista \n",
    "######  Datos de prueba: [1, 2, [3,4], [5,6]]"
   ]
  },
  {
   "cell_type": "code",
   "execution_count": 1,
   "metadata": {},
   "outputs": [
    {
     "name": "stdout",
     "output_type": "stream",
     "text": [
      "21\n"
     ]
    }
   ],
   "source": [
    "def sumaRecursivaListas(listin):\n",
    "    rst = 0\n",
    "    for element in listin:\n",
    "\t    # el elemento leido es en sí una lista entonces recurrir a la función misma\n",
    "        if type(element) == type([]):\n",
    "            rst = rst + sumaRecursivaListas(element)\n",
    "        else:\n",
    "            rst = rst + element\n",
    "    return rst\n",
    "\t\n",
    "\t\n",
    "print( sumaRecursivaListas([1, 2, [3,4],[5,6]]))"
   ]
  },
  {
   "cell_type": "code",
   "execution_count": null,
   "metadata": {},
   "outputs": [],
   "source": []
  },
  {
   "cell_type": "code",
   "execution_count": null,
   "metadata": {},
   "outputs": [],
   "source": []
  }
 ],
 "metadata": {
  "kernelspec": {
   "display_name": "Python 3",
   "language": "python",
   "name": "python3"
  },
  "language_info": {
   "codemirror_mode": {
    "name": "ipython",
    "version": 3
   },
   "file_extension": ".py",
   "mimetype": "text/x-python",
   "name": "python",
   "nbconvert_exporter": "python",
   "pygments_lexer": "ipython3",
   "version": "3.7.3"
  }
 },
 "nbformat": 4,
 "nbformat_minor": 4
}
