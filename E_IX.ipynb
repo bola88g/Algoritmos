{
 "cells": [
  {
   "cell_type": "markdown",
   "metadata": {},
   "source": [
    "##### Escribe un programa de Python para calcular la suma geométrica de n-1 elementos\n",
    "##### Nota: en matemáticas, una serie geométrica es una serie con una relación constante entre términos sucesivos."
   ]
  },
  {
   "cell_type": "code",
   "execution_count": 2,
   "metadata": {},
   "outputs": [
    {
     "name": "stdout",
     "output_type": "stream",
     "text": [
      "1.96875\n",
      "1.75\n"
     ]
    }
   ],
   "source": [
    "# la variable m es el denominador de la serie geométrica y la variable n es el número de elementos de la serie\n",
    "def sumaGeometrica(m,n):\n",
    "  # los términos inferiores a 1 resultan en cero\n",
    "  if n <= 2:\n",
    "    return 1\n",
    "  else:\n",
    "    # el término enésimo es el inverso de la potencia n de 2 más la suma geométrica del anterior término\n",
    "    return 1 / (pow(m,n-2)) + sumaGeometrica(m,n-1)\n",
    " \n",
    "print(sumaGeometrica(2,7))\n",
    "print(sumaGeometrica(2,4))"
   ]
  },
  {
   "cell_type": "code",
   "execution_count": 5,
   "metadata": {},
   "outputs": [
    {
     "name": "stdout",
     "output_type": "stream",
     "text": [
      "0.03125\n",
      "0.0625\n",
      "0.125\n",
      "0.25\n",
      "0.5\n",
      "1.0\n",
      "1.75\n",
      "1.96875\n"
     ]
    }
   ],
   "source": [
    "print(1/pow(2,5))\n",
    "print(1/pow(2,4))\n",
    "print(1/pow(2,3))\n",
    "print(1/pow(2,2))\n",
    "print(1/pow(2,1))\n",
    "print(1/pow(2,0))\n",
    "print(0.25+0.5+1.0)\n",
    "print(+0.03125+0.0625+0.125+0.25+0.5+1.0)"
   ]
  },
  {
   "cell_type": "code",
   "execution_count": null,
   "metadata": {},
   "outputs": [],
   "source": []
  }
 ],
 "metadata": {
  "kernelspec": {
   "display_name": "Python 3",
   "language": "python",
   "name": "python3"
  },
  "language_info": {
   "codemirror_mode": {
    "name": "ipython",
    "version": 3
   },
   "file_extension": ".py",
   "mimetype": "text/x-python",
   "name": "python",
   "nbconvert_exporter": "python",
   "pygments_lexer": "ipython3",
   "version": "3.7.3"
  }
 },
 "nbformat": 4,
 "nbformat_minor": 4
}
